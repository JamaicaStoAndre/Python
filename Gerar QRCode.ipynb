{
 "cells": [
  {
   "cell_type": "code",
   "execution_count": 19,
   "id": "5d0ae258",
   "metadata": {},
   "outputs": [],
   "source": [
    "import qrcode\n",
    "# Exemplo de data\n",
    "data = \"https://www.tubaraodarede.com.br/\"\n",
    "# Nomeamos o arquivo \n",
    "filename = 'qrcodetbrd.png'\n",
    "# Geramos o QR Code\n",
    "img = qrcode.make(data)\n",
    "# Salvamos a img num file\n",
    "img.save(filename)"
   ]
  },
  {
   "cell_type": "code",
   "execution_count": null,
   "id": "db789411",
   "metadata": {},
   "outputs": [],
   "source": []
  },
  {
   "cell_type": "code",
   "execution_count": null,
   "id": "8645dd00",
   "metadata": {},
   "outputs": [],
   "source": []
  },
  {
   "cell_type": "code",
   "execution_count": null,
   "id": "be826252",
   "metadata": {},
   "outputs": [],
   "source": []
  }
 ],
 "metadata": {
  "kernelspec": {
   "display_name": "Python 3",
   "language": "python",
   "name": "python3"
  },
  "language_info": {
   "codemirror_mode": {
    "name": "ipython",
    "version": 3
   },
   "file_extension": ".py",
   "mimetype": "text/x-python",
   "name": "python",
   "nbconvert_exporter": "python",
   "pygments_lexer": "ipython3",
   "version": "3.9.7"
  }
 },
 "nbformat": 4,
 "nbformat_minor": 5
}
