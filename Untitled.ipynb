{
 "cells": [
  {
   "cell_type": "code",
   "execution_count": 18,
   "id": "b56eb202",
   "metadata": {},
   "outputs": [],
   "source": [
    "import qrcode\n",
    "# Exemplo de data\n",
    "data = \"https://www.tubaraodarede.com.br/\"\n",
    "# Nomeamos o arquivo \n",
    "filename = 'qrcode2.png'\n",
    "# Geramos o QR Code\n",
    "img = qrcode.make(data)\n",
    "# Salvamos a img num file\n",
    "img.save(filename)"
   ]
  },
  {
   "cell_type": "code",
   "execution_count": null,
   "id": "1e0aaeec",
   "metadata": {},
   "outputs": [],
   "source": []
  },
  {
   "cell_type": "code",
   "execution_count": null,
   "id": "c944e6d8",
   "metadata": {},
   "outputs": [],
   "source": []
  },
  {
   "cell_type": "code",
   "execution_count": null,
   "id": "f041ec64",
   "metadata": {},
   "outputs": [],
   "source": []
  }
 ],
 "metadata": {
  "kernelspec": {
   "display_name": "Python 3",
   "language": "python",
   "name": "python3"
  },
  "language_info": {
   "codemirror_mode": {
    "name": "ipython",
    "version": 3
   },
   "file_extension": ".py",
   "mimetype": "text/x-python",
   "name": "python",
   "nbconvert_exporter": "python",
   "pygments_lexer": "ipython3",
   "version": "3.9.7"
  }
 },
 "nbformat": 4,
 "nbformat_minor": 5
}
